{
  "metadata": {
    "kernelspec": {
      "language": "python",
      "display_name": "Python 3",
      "name": "python3"
    },
    "language_info": {
      "name": "python",
      "version": "3.10.13",
      "mimetype": "text/x-python",
      "codemirror_mode": {
        "name": "ipython",
        "version": 3
      },
      "pygments_lexer": "ipython3",
      "nbconvert_exporter": "python",
      "file_extension": ".py"
    },
    "kaggle": {
      "accelerator": "none",
      "dataSources": [],
      "dockerImageVersionId": 30732,
      "isInternetEnabled": false,
      "language": "python",
      "sourceType": "notebook",
      "isGpuEnabled": false
    }
  },
  "nbformat_minor": 4,
  "nbformat": 4,
  "cells": [
    {
      "cell_type": "code",
      "source": "import numpy as np\n\n# Activation functions\ndef sigmoid(x):\n    return 1 / (1 + np.exp(-x))\n\ndef tanh(x):\n    return np.tanh(x)\n\ndef sigmoid_derivative(x):\n    return sigmoid(x) * (1 - sigmoid(x))\n\ndef tanh_derivative(x):\n    return 1 - np.tanh(x)**2\n\n# LSTM class\nclass LSTM:\n    def __init__(self, input_size, hidden_size, output_size):\n        self.input_size = input_size\n        self.hidden_size = hidden_size\n        self.output_size = output_size\n\n        # Initialize weights\n        self.Wf = np.random.randn(hidden_size, hidden_size + input_size)\n        self.Wi = np.random.randn(hidden_size, hidden_size + input_size)\n        self.Wc = np.random.randn(hidden_size, hidden_size + input_size)\n        self.Wo = np.random.randn(hidden_size, hidden_size + input_size)\n        self.Wy = np.random.randn(output_size, hidden_size)\n        \n        self.bf = np.zeros((hidden_size, 1))\n        self.bi = np.zeros((hidden_size, 1))\n        self.bc = np.zeros((hidden_size, 1))\n        self.bo = np.zeros((hidden_size, 1))\n        self.by = np.zeros((output_size, 1))\n        \n    def forward(self, x, h_prev, C_prev):\n        concat = np.vstack((h_prev, x))\n\n        ft = sigmoid(np.dot(self.Wf, concat) + self.bf)\n        it = sigmoid(np.dot(self.Wi, concat) + self.bi)\n        C_tilde = tanh(np.dot(self.Wc, concat) + self.bc)\n        Ct = ft * C_prev + it * C_tilde\n        ot = sigmoid(np.dot(self.Wo, concat) + self.bo)\n        ht = ot * tanh(Ct)\n        yt = np.dot(self.Wy, ht) + self.by\n\n        return yt, ht, Ct\n    \n    def backward(self):\n        # Backpropagation implementation\n        pass\n\n    def update_weights(self, lr=0.001):\n        # Weight update implementation\n        pass\n\n# Example usage\ninput_size = 10  # Example input size\nhidden_size = 20  # Example hidden state size\noutput_size = 5  # Example output size\n\n# Create an LSTM instance\nlstm = LSTM(input_size, hidden_size, output_size)\n\n# Example inputs\nx = np.random.randn(input_size, 1)\nh_prev = np.zeros((hidden_size, 1))\nC_prev = np.zeros((hidden_size, 1))\n\n# Forward pass\ny, h_next, C_next = lstm.forward(x, h_prev, C_prev)\nprint(\"Output y:\", y)\nprint(\"Next hidden state h_next:\", h_next)\nprint(\"Next cell state C_next:\", C_next)\n",
      "metadata": {
        "_uuid": "8f2839f25d086af736a60e9eeb907d3b93b6e0e5",
        "_cell_guid": "b1076dfc-b9ad-4769-8c92-a6c4dae69d19",
        "execution": {
          "iopub.status.busy": "2024-06-23T11:07:08.642379Z",
          "iopub.execute_input": "2024-06-23T11:07:08.642813Z",
          "iopub.status.idle": "2024-06-23T11:07:08.710516Z",
          "shell.execute_reply.started": "2024-06-23T11:07:08.642781Z",
          "shell.execute_reply": "2024-06-23T11:07:08.709296Z"
        },
        "trusted": true
      },
      "execution_count": 1,
      "outputs": [
        {
          "name": "stdout",
          "text": "Output y: [[-0.07853163]\n [ 0.48692607]\n [-0.16353161]\n [ 0.69102598]\n [-0.53938413]]\nNext hidden state h_next: [[-2.15420681e-01]\n [-6.83419423e-05]\n [ 1.63133424e-04]\n [ 4.42860658e-01]\n [ 6.91994914e-02]\n [-7.16871271e-02]\n [ 4.28808012e-02]\n [ 2.96061462e-01]\n [-2.16811772e-02]\n [-1.10390479e-02]\n [-3.45163512e-02]\n [-1.75448605e-01]\n [ 2.75159690e-02]\n [-2.82150891e-03]\n [-3.84693423e-02]\n [-1.48993277e-06]\n [ 2.17698064e-01]\n [-1.69959724e-01]\n [ 2.18797108e-03]\n [ 1.12341251e-01]]\nNext cell state C_next: [[-0.95946427]\n [-0.12731889]\n [ 0.00716264]\n [ 0.50463602]\n [ 0.07076751]\n [-0.07730143]\n [ 0.06395725]\n [ 0.37840036]\n [-0.5926978 ]\n [-0.1702315 ]\n [-0.06515593]\n [-0.86201301]\n [ 0.0360976 ]\n [-0.00914651]\n [-0.90021593]\n [-0.00534239]\n [ 0.79486644]\n [-0.51001761]\n [ 0.37980245]\n [ 0.96650953]]\n",
          "output_type": "stream"
        }
      ]
    }
  ]
}