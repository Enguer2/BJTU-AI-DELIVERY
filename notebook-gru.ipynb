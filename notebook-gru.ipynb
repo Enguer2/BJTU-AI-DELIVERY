{
  "metadata": {
    "kernelspec": {
      "language": "python",
      "display_name": "Python 3",
      "name": "python3"
    },
    "language_info": {
      "name": "python",
      "version": "3.10.13",
      "mimetype": "text/x-python",
      "codemirror_mode": {
        "name": "ipython",
        "version": 3
      },
      "pygments_lexer": "ipython3",
      "nbconvert_exporter": "python",
      "file_extension": ".py"
    },
    "kaggle": {
      "accelerator": "none",
      "dataSources": [],
      "dockerImageVersionId": 30732,
      "isInternetEnabled": false,
      "language": "python",
      "sourceType": "notebook",
      "isGpuEnabled": false
    }
  },
  "nbformat_minor": 4,
  "nbformat": 4,
  "cells": [
    {
      "cell_type": "code",
      "source": "# This Python 3 environment comes with many helpful analytics libraries installed\n# It is defined by the kaggle/python Docker image: https://github.com/kaggle/docker-python\n# For example, here's several helpful packages to load\n\nimport numpy as np\n\n# Activation functions\ndef sigmoid(x):\n    return 1 / (1 + np.exp(-x))\n\ndef tanh(x):\n    return np.tanh(x)\n\n# GRU class\nclass GRU:\n    def __init__(self, input_size, hidden_size, output_size):\n        self.input_size = input_size\n        self.hidden_size = hidden_size\n        self.output_size = output_size\n\n        # Initialize weights\n        self.Wz = np.random.randn(hidden_size, hidden_size + input_size)\n        self.Wr = np.random.randn(hidden_size, hidden_size + input_size)\n        self.Wh = np.random.randn(hidden_size, hidden_size + input_size)\n        self.Wy = np.random.randn(output_size, hidden_size)\n        \n        self.bz = np.zeros((hidden_size, 1))\n        self.br = np.zeros((hidden_size, 1))\n        self.bh = np.zeros((hidden_size, 1))\n        self.by = np.zeros((output_size, 1))\n\n    def forward(self, x, h_prev):\n        concat = np.vstack((h_prev, x))\n\n        zt = sigmoid(np.dot(self.Wz, concat) + self.bz)\n        rt = sigmoid(np.dot(self.Wr, concat) + self.br)\n        h_tilde = tanh(np.dot(self.Wh, np.vstack((rt * h_prev, x))) + self.bh)\n        ht = (1 - zt) * h_prev + zt * h_tilde\n        yt = np.dot(self.Wy, ht) + self.by\n\n        return yt, ht\n\n    def backward(self):\n        # Backpropagation implementation\n        pass\n\n    def update_weights(self, lr=0.001):\n        # Weight update implementation\n        pass\n\n# Example usage\ninput_size = 10  # Example input size\nhidden_size = 20  # Example hidden state size\noutput_size = 5  # Example output size\n\n# Create a GRU instance\ngru = GRU(input_size, hidden_size, output_size)\n\n# Example inputs\nx = np.random.randn(input_size, 1)\nh_prev = np.zeros((hidden_size, 1))\n\n# Forward pass\ny, h_next = gru.forward(x, h_prev)\nprint(\"Output y:\", y)\nprint(\"Next hidden state h_next:\", h_next)\n\n        \n        \n        \n\n# You can write up to 20GB to the current directory (/kaggle/working/) that gets preserved as output when you create a version using \"Save & Run All\" \n# You can also write temporary files to /kaggle/temp/, but they won't be saved outside of the current session",
      "metadata": {
        "_uuid": "8f2839f25d086af736a60e9eeb907d3b93b6e0e5",
        "_cell_guid": "b1076dfc-b9ad-4769-8c92-a6c4dae69d19",
        "execution": {
          "iopub.status.busy": "2024-06-23T11:03:09.096467Z",
          "iopub.execute_input": "2024-06-23T11:03:09.096941Z",
          "iopub.status.idle": "2024-06-23T11:03:09.152720Z",
          "shell.execute_reply.started": "2024-06-23T11:03:09.096906Z",
          "shell.execute_reply": "2024-06-23T11:03:09.151484Z"
        },
        "trusted": true
      },
      "execution_count": 1,
      "outputs": [
        {
          "name": "stdout",
          "text": "Output y: [[-0.0317841 ]\n [-1.31711583]\n [-3.41559072]\n [ 3.91121451]\n [ 0.692366  ]]\nNext hidden state h_next: [[ 8.22813010e-02]\n [ 3.12394887e-01]\n [ 9.44090431e-01]\n [ 2.47583265e-01]\n [ 9.15465204e-01]\n [-9.55961636e-01]\n [-8.38645781e-01]\n [ 7.65011018e-01]\n [ 9.76238910e-01]\n [ 5.22342238e-01]\n [ 7.13405092e-01]\n [ 4.56435905e-02]\n [-5.10387317e-04]\n [ 5.80386546e-03]\n [-9.91229130e-01]\n [ 8.03155084e-01]\n [-9.96989326e-01]\n [-5.01559509e-01]\n [ 7.04366625e-01]\n [-5.13624878e-01]]\n",
          "output_type": "stream"
        }
      ]
    }
  ]
}